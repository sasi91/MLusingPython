{
 "cells": [
  {
   "cell_type": "markdown",
   "metadata": {},
   "source": [
    "<img src=\"https://github.com/insaid2018/Term-1/blob/master/Images/INSAID_Full%20Logo.png?raw=true\" width=\"240\" height=\"360\" />\n"
   ]
  },
  {
   "cell_type": "markdown",
   "metadata": {
    "toc": true
   },
   "source": [
    "<h1>Table of Contents<span class=\"tocSkip\"></span></h1>\n",
    "<div class=\"toc\"><ul class=\"toc-item\"><li><span><a href=\"#Problem-Statement\" data-toc-modified-id=\"Problem-Statement-1\"><span class=\"toc-item-num\">1&nbsp;&nbsp;</span>Problem Statement</a></span></li><li><span><a href=\"#Data-Loading-and-Description\" data-toc-modified-id=\"Data-Loading-and-Description-2\"><span class=\"toc-item-num\">2&nbsp;&nbsp;</span>Data Loading and Description</a></span><ul class=\"toc-item\"><li><span><a href=\"#Importing-libraries\" data-toc-modified-id=\"Importing-libraries-2.1\"><span class=\"toc-item-num\">2.1&nbsp;&nbsp;</span>Importing libraries</a></span></li><li><span><a href=\"#Loading-dataset\" data-toc-modified-id=\"Loading-dataset-2.2\"><span class=\"toc-item-num\">2.2&nbsp;&nbsp;</span>Loading dataset</a></span></li></ul></li><li><span><a href=\"#Data-Profiling\" data-toc-modified-id=\"Data-Profiling-3\"><span class=\"toc-item-num\">3&nbsp;&nbsp;</span>Data Profiling</a></span><ul class=\"toc-item\"><li><span><a href=\"#Get-a-basic-information-on-Dataset\" data-toc-modified-id=\"Get-a-basic-information-on-Dataset-3.1\"><span class=\"toc-item-num\">3.1&nbsp;&nbsp;</span>Get a basic information on Dataset</a></span></li><li><span><a href=\"#Pre-Profiling\" data-toc-modified-id=\"Pre-Profiling-3.2\"><span class=\"toc-item-num\">3.2&nbsp;&nbsp;</span>Pre Profiling</a></span></li><li><span><a href=\"#Post-Profiling\" data-toc-modified-id=\"Post-Profiling-3.3\"><span class=\"toc-item-num\">3.3&nbsp;&nbsp;</span>Post Profiling</a></span></li></ul></li><li><span><a href=\"#Questions\" data-toc-modified-id=\"Questions-4\"><span class=\"toc-item-num\">4&nbsp;&nbsp;</span>Questions</a></span><ul class=\"toc-item\"><li><span><a href=\"#What-is-the-overall-survival-rates?\" data-toc-modified-id=\"What-is-the-overall-survival-rates?-4.1\"><span class=\"toc-item-num\">4.1&nbsp;&nbsp;</span>What is the overall survival rates?</a></span></li><li><span><a href=\"#Which-year-has-maximum-number-of-surgeries?\" data-toc-modified-id=\"Which-year-has-maximum-number-of-surgeries?-4.2\"><span class=\"toc-item-num\">4.2&nbsp;&nbsp;</span>Which year has maximum number of surgeries?</a></span></li><li><span><a href=\"#Which-year-has-lowest-success-rate-in-surgeries-?\" data-toc-modified-id=\"Which-year-has-lowest-success-rate-in-surgeries-?-4.3\"><span class=\"toc-item-num\">4.3&nbsp;&nbsp;</span>Which year has lowest success rate in surgeries ?</a></span></li><li><span><a href=\"#Does-the-age-factor-decide-the-survival-chance?\" data-toc-modified-id=\"Does-the-age-factor-decide-the-survival-chance?-4.4\"><span class=\"toc-item-num\">4.4&nbsp;&nbsp;</span>Does the age factor decide the survival chance?</a></span></li><li><span><a href=\"#Does-the-axillary-nodes-decide-the-survival-chance?\" data-toc-modified-id=\"Does-the-axillary-nodes-decide-the-survival-chance?-4.5\"><span class=\"toc-item-num\">4.5&nbsp;&nbsp;</span>Does the axillary nodes decide the survival chance?</a></span></li><li><span><a href=\"#Which-age-category-has-maximum-numbers-of-Long-Survival?\" data-toc-modified-id=\"Which-age-category-has-maximum-numbers-of-Long-Survival?-4.6\"><span class=\"toc-item-num\">4.6&nbsp;&nbsp;</span>Which age category has maximum numbers of Long Survival?</a></span></li><li><span><a href=\"#What-percentage-of-patients-who-had-no-positive-axillary-nodes-died-within-5-years?\" data-toc-modified-id=\"What-percentage-of-patients-who-had-no-positive-axillary-nodes-died-within-5-years?-4.7\"><span class=\"toc-item-num\">4.7&nbsp;&nbsp;</span>What percentage of patients who had no positive axillary nodes died within 5 years?</a></span></li></ul></li><li><span><a href=\"#Conclusion\" data-toc-modified-id=\"Conclusion-5\"><span class=\"toc-item-num\">5&nbsp;&nbsp;</span>Conclusion</a></span></li></ul></div>"
   ]
  },
  {
   "cell_type": "markdown",
   "metadata": {},
   "source": [
    "## Problem Statement"
   ]
  },
  {
   "cell_type": "markdown",
   "metadata": {},
   "source": [
    "To analyse and find out the possiblity of patients who will survive beyond 5 years after surgery based on the attributes like Age, Operation Year and Axillary nodes."
   ]
  },
  {
   "cell_type": "markdown",
   "metadata": {},
   "source": [
    "## Data Loading and Description"
   ]
  },
  {
   "cell_type": "markdown",
   "metadata": {},
   "source": [
    "Data Set Information:\n",
    "The dataset contains cases from a study that was conducted between 1958 and 1970 at the University of Chicago's Billings Hospital on the survival of patients who had undergone surgery for breast cancer.\n",
    "Attribute Information:\n",
    "1. Age of patient at time of operation (numerical) \n",
    "2. Patient's year of operation (year - 1900, numerical) \n",
    "3. Number of positive axillary nodes detected (numerical) \n",
    "4. Survival status (class attribute) \n",
    "-- 1 = the patient survived 5 years or longer \n",
    "-- 2 = the patient died within 5 year\n"
   ]
  },
  {
   "cell_type": "markdown",
   "metadata": {},
   "source": [
    "### Importing libraries"
   ]
  },
  {
   "cell_type": "code",
   "execution_count": null,
   "metadata": {},
   "outputs": [],
   "source": [
    "import numpy as np\n",
    "import pandas_profiling \n",
    "import pandas as pd\n",
    "pd.set_option('mode.chained_assignment', None)      # To suppress pandas warnings.\n",
    "pd.set_option('display.max_colwidth', -1)           # To display all the data in each column\n",
    "pd.options.display.max_columns = 50                 # To display every column of the dataset in head()\n",
    "\n",
    "import warnings\n",
    "warnings.filterwarnings('ignore')                   # To suppress all the warnings in the notebook.\n",
    "\n",
    "import matplotlib.pyplot as plt\n",
    "%matplotlib inline\n",
    "\n",
    "import seaborn as sns\n",
    "sns.set(style='whitegrid', font_scale=1.3, color_codes=True)     # To apply seaborn styles to the plots.\n",
    "\n",
    "# Making plotly specific imports\n",
    "# These imports are necessary to use plotly offline without signing in to their website.\n",
    "\n"
   ]
  },
  {
   "cell_type": "code",
   "execution_count": 2,
   "metadata": {},
   "outputs": [],
   "source": [
    "# Install and update plotly using this command to the latest version (higher than version 4.0.0)\n",
    "#!pip install plotly --upgrade"
   ]
  },
  {
   "cell_type": "code",
   "execution_count": 3,
   "metadata": {},
   "outputs": [],
   "source": [
    "# Install chart_studio, please use this command. \n",
    "#!pip install chart-studio"
   ]
  },
  {
   "cell_type": "markdown",
   "metadata": {},
   "source": [
    "### Loading dataset"
   ]
  },
  {
   "cell_type": "code",
   "execution_count": 3,
   "metadata": {},
   "outputs": [],
   "source": [
    "excel_df = pd.read_csv('https://raw.githubusercontent.com/insaid2018/Term-1/master/Data/Projects/Breast_cancer_survival.csv')              # read_csv is used to read csv file"
   ]
  },
  {
   "cell_type": "markdown",
   "metadata": {},
   "source": [
    "## Data Profiling"
   ]
  },
  {
   "cell_type": "markdown",
   "metadata": {},
   "source": [
    "### Get a basic information on Dataset"
   ]
  },
  {
   "cell_type": "code",
   "execution_count": 4,
   "metadata": {},
   "outputs": [
    {
     "data": {
      "text/plain": [
       "(306, 4)"
      ]
     },
     "execution_count": 4,
     "metadata": {},
     "output_type": "execute_result"
    }
   ],
   "source": [
    "excel_df.shape                                         # It will return the count of rows and columns"
   ]
  },
  {
   "cell_type": "markdown",
   "metadata": {},
   "source": [
    "Above result represents that we have 306 rows and 4 columns in our dataset"
   ]
  },
  {
   "cell_type": "code",
   "execution_count": 5,
   "metadata": {},
   "outputs": [
    {
     "data": {
      "text/html": [
       "<div>\n",
       "<style scoped>\n",
       "    .dataframe tbody tr th:only-of-type {\n",
       "        vertical-align: middle;\n",
       "    }\n",
       "\n",
       "    .dataframe tbody tr th {\n",
       "        vertical-align: top;\n",
       "    }\n",
       "\n",
       "    .dataframe thead th {\n",
       "        text-align: right;\n",
       "    }\n",
       "</style>\n",
       "<table border=\"1\" class=\"dataframe\">\n",
       "  <thead>\n",
       "    <tr style=\"text-align: right;\">\n",
       "      <th></th>\n",
       "      <th>Age</th>\n",
       "      <th>Years_of_operation</th>\n",
       "      <th>Pos_axillary_nodes</th>\n",
       "      <th>Status</th>\n",
       "    </tr>\n",
       "  </thead>\n",
       "  <tbody>\n",
       "    <tr>\n",
       "      <th>0</th>\n",
       "      <td>30</td>\n",
       "      <td>64</td>\n",
       "      <td>1</td>\n",
       "      <td>1</td>\n",
       "    </tr>\n",
       "    <tr>\n",
       "      <th>1</th>\n",
       "      <td>30</td>\n",
       "      <td>62</td>\n",
       "      <td>3</td>\n",
       "      <td>1</td>\n",
       "    </tr>\n",
       "    <tr>\n",
       "      <th>2</th>\n",
       "      <td>30</td>\n",
       "      <td>65</td>\n",
       "      <td>0</td>\n",
       "      <td>1</td>\n",
       "    </tr>\n",
       "    <tr>\n",
       "      <th>3</th>\n",
       "      <td>31</td>\n",
       "      <td>59</td>\n",
       "      <td>2</td>\n",
       "      <td>1</td>\n",
       "    </tr>\n",
       "    <tr>\n",
       "      <th>4</th>\n",
       "      <td>31</td>\n",
       "      <td>65</td>\n",
       "      <td>4</td>\n",
       "      <td>1</td>\n",
       "    </tr>\n",
       "  </tbody>\n",
       "</table>\n",
       "</div>"
      ],
      "text/plain": [
       "   Age  Years_of_operation  Pos_axillary_nodes  Status\n",
       "0  30   64                  1                   1     \n",
       "1  30   62                  3                   1     \n",
       "2  30   65                  0                   1     \n",
       "3  31   59                  2                   1     \n",
       "4  31   65                  4                   1     "
      ]
     },
     "execution_count": 5,
     "metadata": {},
     "output_type": "execute_result"
    }
   ],
   "source": [
    "excel_df.head()                                        # It will return first 5 rows of dataset"
   ]
  },
  {
   "cell_type": "code",
   "execution_count": 6,
   "metadata": {
    "scrolled": false
   },
   "outputs": [
    {
     "name": "stdout",
     "output_type": "stream",
     "text": [
      "<class 'pandas.core.frame.DataFrame'>\n",
      "RangeIndex: 306 entries, 0 to 305\n",
      "Data columns (total 4 columns):\n",
      " #   Column              Non-Null Count  Dtype\n",
      "---  ------              --------------  -----\n",
      " 0   Age                 306 non-null    int64\n",
      " 1   Years_of_operation  306 non-null    int64\n",
      " 2   Pos_axillary_nodes  306 non-null    int64\n",
      " 3   Status              306 non-null    int64\n",
      "dtypes: int64(4)\n",
      "memory usage: 9.7 KB\n"
     ]
    }
   ],
   "source": [
    "excel_df.info();                                     # This will give Index, Datatype and Memory information"
   ]
  },
  {
   "cell_type": "markdown",
   "metadata": {},
   "source": [
    "We have observed the below points\n",
    "<ul>\n",
    " <li>No missing values</li>\n",
    " <li>All the columns are of the integer data type.</li>\n",
    " <li>\n",
    "    <b> Status </b>- To get a better understanding of Survival status, it has to be converted into <b>Yes</b> or <b>No</b> category\n",
    "     <ul> \n",
    "         <li> The value of '1' will be replaced with 'Yes' to denote the patient has survived more than 5 years.</li> \n",
    "          <li> The value of '2' will be replaced with 'No' to denote the patient has survived less than 5 years.</li> \n",
    "     </ul>\n",
    " </li>\n",
    " <li><b>Years of operation</b> - As we can see all the surgeries are conducted in between 1958 and 1970, we can add the value '1900' to this column to make it more clear </li> \n",
    "</ul>"
   ]
  },
  {
   "cell_type": "markdown",
   "metadata": {},
   "source": [
    "### Pre Profiling"
   ]
  },
  {
   "cell_type": "code",
   "execution_count": 8,
   "metadata": {},
   "outputs": [],
   "source": [
    "# To install pandas profiling please run this command.\n",
    "\n",
    "#!pip install --user pandas-profiling --upgrade\n",
    "#!pip install -q datascience\n",
    "#!pip install --user --upgrade pandas-profiling"
   ]
  },
  {
   "cell_type": "code",
   "execution_count": 9,
   "metadata": {},
   "outputs": [],
   "source": [
    "profile = excel_df.profile_report(title='Pandas Profiling before Data Preprocessing')\n"
   ]
  },
  {
   "cell_type": "markdown",
   "metadata": {},
   "source": [
    "<ul>\n",
    "    <li> Convert the 'status' column values into categorical datatype </li>\n",
    "    <li> Sum each value of 'Years_of_operation' column with a integer value of '1900' </li>\n",
    "</ul>"
   ]
  },
  {
   "cell_type": "code",
   "execution_count": 7,
   "metadata": {},
   "outputs": [
    {
     "data": {
      "text/html": [
       "<div>\n",
       "<style scoped>\n",
       "    .dataframe tbody tr th:only-of-type {\n",
       "        vertical-align: middle;\n",
       "    }\n",
       "\n",
       "    .dataframe tbody tr th {\n",
       "        vertical-align: top;\n",
       "    }\n",
       "\n",
       "    .dataframe thead th {\n",
       "        text-align: right;\n",
       "    }\n",
       "</style>\n",
       "<table border=\"1\" class=\"dataframe\">\n",
       "  <thead>\n",
       "    <tr style=\"text-align: right;\">\n",
       "      <th></th>\n",
       "      <th>Age</th>\n",
       "      <th>Years_of_operation</th>\n",
       "      <th>Pos_axillary_nodes</th>\n",
       "      <th>Status</th>\n",
       "    </tr>\n",
       "  </thead>\n",
       "  <tbody>\n",
       "    <tr>\n",
       "      <th>0</th>\n",
       "      <td>30</td>\n",
       "      <td>1964</td>\n",
       "      <td>1</td>\n",
       "      <td>Yes</td>\n",
       "    </tr>\n",
       "    <tr>\n",
       "      <th>1</th>\n",
       "      <td>30</td>\n",
       "      <td>1962</td>\n",
       "      <td>3</td>\n",
       "      <td>Yes</td>\n",
       "    </tr>\n",
       "    <tr>\n",
       "      <th>2</th>\n",
       "      <td>30</td>\n",
       "      <td>1965</td>\n",
       "      <td>0</td>\n",
       "      <td>Yes</td>\n",
       "    </tr>\n",
       "    <tr>\n",
       "      <th>3</th>\n",
       "      <td>31</td>\n",
       "      <td>1959</td>\n",
       "      <td>2</td>\n",
       "      <td>Yes</td>\n",
       "    </tr>\n",
       "    <tr>\n",
       "      <th>4</th>\n",
       "      <td>31</td>\n",
       "      <td>1965</td>\n",
       "      <td>4</td>\n",
       "      <td>Yes</td>\n",
       "    </tr>\n",
       "  </tbody>\n",
       "</table>\n",
       "</div>"
      ],
      "text/plain": [
       "   Age  Years_of_operation  Pos_axillary_nodes Status\n",
       "0  30   1964                1                   Yes  \n",
       "1  30   1962                3                   Yes  \n",
       "2  30   1965                0                   Yes  \n",
       "3  31   1959                2                   Yes  \n",
       "4  31   1965                4                   Yes  "
      ]
     },
     "execution_count": 7,
     "metadata": {},
     "output_type": "execute_result"
    }
   ],
   "source": [
    "excel_df['Status'] = excel_df['Status'].map({1:'Yes', 2:'No'})\n",
    "excel_df['Years_of_operation'] = excel_df.Years_of_operation + 1900;\n",
    "excel_df.head()"
   ]
  },
  {
   "cell_type": "markdown",
   "metadata": {},
   "source": [
    "### Post Profiling"
   ]
  },
  {
   "cell_type": "code",
   "execution_count": 8,
   "metadata": {},
   "outputs": [
    {
     "data": {
      "text/html": [
       "<div>\n",
       "<style scoped>\n",
       "    .dataframe tbody tr th:only-of-type {\n",
       "        vertical-align: middle;\n",
       "    }\n",
       "\n",
       "    .dataframe tbody tr th {\n",
       "        vertical-align: top;\n",
       "    }\n",
       "\n",
       "    .dataframe thead th {\n",
       "        text-align: right;\n",
       "    }\n",
       "</style>\n",
       "<table border=\"1\" class=\"dataframe\">\n",
       "  <thead>\n",
       "    <tr style=\"text-align: right;\">\n",
       "      <th></th>\n",
       "      <th>Age</th>\n",
       "      <th>Years_of_operation</th>\n",
       "      <th>Pos_axillary_nodes</th>\n",
       "    </tr>\n",
       "  </thead>\n",
       "  <tbody>\n",
       "    <tr>\n",
       "      <th>count</th>\n",
       "      <td>306.000000</td>\n",
       "      <td>306.000000</td>\n",
       "      <td>306.000000</td>\n",
       "    </tr>\n",
       "    <tr>\n",
       "      <th>mean</th>\n",
       "      <td>52.457516</td>\n",
       "      <td>1962.852941</td>\n",
       "      <td>4.026144</td>\n",
       "    </tr>\n",
       "    <tr>\n",
       "      <th>std</th>\n",
       "      <td>10.803452</td>\n",
       "      <td>3.249405</td>\n",
       "      <td>7.189654</td>\n",
       "    </tr>\n",
       "    <tr>\n",
       "      <th>min</th>\n",
       "      <td>30.000000</td>\n",
       "      <td>1958.000000</td>\n",
       "      <td>0.000000</td>\n",
       "    </tr>\n",
       "    <tr>\n",
       "      <th>25%</th>\n",
       "      <td>44.000000</td>\n",
       "      <td>1960.000000</td>\n",
       "      <td>0.000000</td>\n",
       "    </tr>\n",
       "    <tr>\n",
       "      <th>50%</th>\n",
       "      <td>52.000000</td>\n",
       "      <td>1963.000000</td>\n",
       "      <td>1.000000</td>\n",
       "    </tr>\n",
       "    <tr>\n",
       "      <th>75%</th>\n",
       "      <td>60.750000</td>\n",
       "      <td>1965.750000</td>\n",
       "      <td>4.000000</td>\n",
       "    </tr>\n",
       "    <tr>\n",
       "      <th>max</th>\n",
       "      <td>83.000000</td>\n",
       "      <td>1969.000000</td>\n",
       "      <td>52.000000</td>\n",
       "    </tr>\n",
       "  </tbody>\n",
       "</table>\n",
       "</div>"
      ],
      "text/plain": [
       "              Age  Years_of_operation  Pos_axillary_nodes\n",
       "count  306.000000  306.000000          306.000000        \n",
       "mean   52.457516   1962.852941         4.026144          \n",
       "std    10.803452   3.249405            7.189654          \n",
       "min    30.000000   1958.000000         0.000000          \n",
       "25%    44.000000   1960.000000         0.000000          \n",
       "50%    52.000000   1963.000000         1.000000          \n",
       "75%    60.750000   1965.750000         4.000000          \n",
       "max    83.000000   1969.000000         52.000000         "
      ]
     },
     "execution_count": 8,
     "metadata": {},
     "output_type": "execute_result"
    }
   ],
   "source": [
    "excel_df.describe()"
   ]
  },
  {
   "cell_type": "code",
   "execution_count": 14,
   "metadata": {
    "scrolled": true
   },
   "outputs": [],
   "source": [
    "# To output pandas profiling report to an external html file.\n",
    "# Saving the output as profiling_before_preprocessing.html\n",
    "\n",
    "profile = excel_df.profile_report(title='Pandas Profiling before Data Preprocessing')\n",
    "profile.to_file(output_file=\"profiling_before_preprocessing.html\")\n"
   ]
  },
  {
   "cell_type": "markdown",
   "metadata": {},
   "source": [
    "## Questions"
   ]
  },
  {
   "cell_type": "markdown",
   "metadata": {},
   "source": [
    "### What is the overall survival rates?"
   ]
  },
  {
   "cell_type": "code",
   "execution_count": 8,
   "metadata": {
    "scrolled": true
   },
   "outputs": [
    {
     "data": {
      "text/plain": [
       "Text(0.5, 1.0, 'Count plot for survived more than 5 years.')"
      ]
     },
     "execution_count": 8,
     "metadata": {},
     "output_type": "execute_result"
    },
    {
     "data": {
      "image/png": "[encoded data removed]",
      "text/plain": [
       "<Figure size 432x288 with 1 Axes>"
      ]
     },
     "metadata": {
      "needs_background": "light"
     },
     "output_type": "display_data"
    }
   ],
   "source": [
    "sns.countplot(x='Status', data=excel_df).set_title('Count plot for survived more than 5 years.')"
   ]
  },
  {
   "cell_type": "markdown",
   "metadata": {},
   "source": [
    "If we want to know the exact count who are all survived more than 5 years.<br/> <b> Using Groupby of Status column </b>"
   ]
  },
  {
   "cell_type": "code",
   "execution_count": 19,
   "metadata": {},
   "outputs": [
    {
     "data": {
      "text/plain": [
       "Status\n",
       "No     81 \n",
       "Yes    225\n",
       "Name: Status, dtype: int64"
      ]
     },
     "execution_count": 19,
     "metadata": {},
     "output_type": "execute_result"
    }
   ],
   "source": [
    "excel_df.groupby(['Status'])['Status'].count()\n"
   ]
  },
  {
   "cell_type": "markdown",
   "metadata": {},
   "source": [
    "As per the above count, we can say 225 patients has survived more than 5 years after the surgery and 81 patients survival rate is below 5 years."
   ]
  },
  {
   "cell_type": "markdown",
   "metadata": {},
   "source": [
    "### Which year has maximum number of surgeries?"
   ]
  },
  {
   "cell_type": "code",
   "execution_count": 15,
   "metadata": {},
   "outputs": [
    {
     "data": {
      "text/plain": [
       "Text(0.5, 0, 'Surgery count')"
      ]
     },
     "execution_count": 15,
     "metadata": {},
     "output_type": "execute_result"
    },
    {
     "data": {
      "image/png": "[encoded data removed]",
      "text/plain": [
       "<Figure size 864x576 with 1 Axes>"
      ]
     },
     "metadata": {
      "needs_background": "light"
     },
     "output_type": "display_data"
    }
   ],
   "source": [
    "plt.figure(figsize=(12,8))\n",
    "sns.countplot(y='Years_of_operation', data=excel_df).set_title('Surgeries conducted in each year between 1958 and 1970')\n",
    "plt.ylabel('Years 1958 - 1970')\n",
    "plt.xlabel('Surgery count')"
   ]
  },
  {
   "cell_type": "markdown",
   "metadata": {},
   "source": [
    "To know the exact count, we use the groupby for Years_of_operation."
   ]
  },
  {
   "cell_type": "code",
   "execution_count": 23,
   "metadata": {},
   "outputs": [
    {
     "data": {
      "text/plain": [
       "Years_of_operation\n",
       "1958    36\n",
       "1964    31\n",
       "1963    30\n",
       "1966    28\n",
       "1965    28\n",
       "1960    28\n",
       "1959    27\n",
       "1961    26\n",
       "1967    25\n",
       "1962    23\n",
       "1968    13\n",
       "1969    11\n",
       "Name: Years_of_operation, dtype: int64"
      ]
     },
     "execution_count": 23,
     "metadata": {},
     "output_type": "execute_result"
    }
   ],
   "source": [
    "#excel_df.groupby(['Years_of_operation'])['Years_of_operation'].count()\n",
    "excel_df.groupby(['Years_of_operation'])['Years_of_operation'].count().sort_values(ascending=False)"
   ]
  },
  {
   "cell_type": "markdown",
   "metadata": {},
   "source": [
    "As shown in the above graph, Maximum surgeries recorded in the year of 1958, followed by 1964."
   ]
  },
  {
   "cell_type": "markdown",
   "metadata": {},
   "source": [
    "### Which year has lowest success rate in surgeries ?"
   ]
  },
  {
   "cell_type": "code",
   "execution_count": 23,
   "metadata": {},
   "outputs": [
    {
     "data": {
      "text/plain": [
       "Text(0.5, 1.0, 'Year distribution using FacetGrid')"
      ]
     },
     "execution_count": 23,
     "metadata": {},
     "output_type": "execute_result"
    },
    {
     "data": {
      "image/png": "[encoded data removed]",
      "text/plain": [
       "<Figure size 1154.73x216 with 1 Axes>"
      ]
     },
     "metadata": {
      "needs_background": "light"
     },
     "output_type": "display_data"
    }
   ],
   "source": [
    "as_fig = sns.FacetGrid(excel_df,hue='Status',aspect=5)\n",
    "\n",
    "as_fig.map(sns.kdeplot,'Years_of_operation',shade=True)\n",
    "\n",
    "firstyear = excel_df['Years_of_operation'].min()\n",
    "\n",
    "Lastyear = excel_df['Years_of_operation'].max()\n",
    "\n",
    "as_fig.set(xlim=(firstyear,Lastyear))\n",
    "\n",
    "as_fig.add_legend()\n",
    "plt.title('Year distribution using FacetGrid')"
   ]
  },
  {
   "cell_type": "markdown",
   "metadata": {},
   "source": [
    "Major area of graph has been overlapped which tells that survival chances of patients cannot be decided using only this <b>Years_of_operation</b> parameter.\n",
    "\n",
    "Between the year 1963 and 1966, We can see a rise in the graph which tells that there were more unsuccessful operations."
   ]
  },
  {
   "cell_type": "markdown",
   "metadata": {},
   "source": [
    "### Does the age factor decide the survival chance? "
   ]
  },
  {
   "cell_type": "code",
   "execution_count": 17,
   "metadata": {},
   "outputs": [
    {
     "data": {
      "text/plain": [
       "Text(0.5, 1.0, 'Age distribution using FacetGrid')"
      ]
     },
     "execution_count": 17,
     "metadata": {},
     "output_type": "execute_result"
    },
    {
     "data": {
      "image/png": "[encoded data removed]",
      "text/plain": [
       "<Figure size 1154.73x216 with 1 Axes>"
      ]
     },
     "metadata": {
      "needs_background": "light"
     },
     "output_type": "display_data"
    }
   ],
   "source": [
    "as_fig = sns.FacetGrid(excel_df,hue='Status',aspect=5)\n",
    "\n",
    "as_fig.map(sns.kdeplot,'Age',shade=True)\n",
    "\n",
    "oldest = excel_df['Age'].max()\n",
    "\n",
    "as_fig.set(xlim=(0,oldest))\n",
    "\n",
    "as_fig.add_legend()\n",
    "plt.title('Age distribution using FacetGrid')"
   ]
  },
  {
   "cell_type": "markdown",
   "metadata": {},
   "source": [
    "From the above graph, Overlapping area shows that the survival chances for patients are almost similiar for all the age category. Hence we cannot decide the survival chances of a patient using only the age as a parameter. \n",
    "Lets see the below observations\n",
    "\n",
    "1. Patients age between 25 and 40 are slightly having higher chance to survive after 5 years.\n",
    "2. Patients age which are more than 40 and less than 55 are having less chances to survive after 5 years. \n",
    "3. Patients whose age are between 60 and 75 are having equal chances of surviving and not surviving, while the survival chances    are less after the age of 80. "
   ]
  },
  {
   "cell_type": "markdown",
   "metadata": {},
   "source": [
    "### Does the axillary nodes decide the survival chance?"
   ]
  },
  {
   "cell_type": "code",
   "execution_count": 18,
   "metadata": {},
   "outputs": [
    {
     "data": {
      "image/png": "[encoded data removed]",
      "text/plain": [
       "<Figure size 434.73x360 with 1 Axes>"
      ]
     },
     "metadata": {
      "needs_background": "light"
     },
     "output_type": "display_data"
    }
   ],
   "source": [
    "sns.FacetGrid(excel_df,hue='Status',height = 5)\\\n",
    " .map(sns.distplot,\"Pos_axillary_nodes\")\\\n",
    " . add_legend();\n",
    "plt.show()"
   ]
  },
  {
   "cell_type": "markdown",
   "metadata": {},
   "source": [
    "Patients with less nodes are more likely to survive. <br/> From the above graph,  we can clearly see the patients who has less than 2 nodes are having more chances to survive more than 5 years. "
   ]
  },
  {
   "cell_type": "code",
   "execution_count": 11,
   "metadata": {},
   "outputs": [
    {
     "name": "stdout",
     "output_type": "stream",
     "text": [
      "Long Surival\n",
      "\n",
      "Total count is 225\n",
      "Mean - 2.7911111111111113\n",
      "Median - 0.0\n",
      "Maximum node in Long Survival - 46\n",
      "\n",
      "**********************************************\n",
      "\n",
      "Short Surival\n",
      "\n",
      "Total count is 81\n",
      "Mean - 7.45679012345679\n",
      "Median - 4.0\n",
      "Minimum node in Short Survival - 0\n"
     ]
    }
   ],
   "source": [
    "LongSurvival = excel_df[excel_df['Status'] == 'Yes']\n",
    "\n",
    "print(\"Long Surival\\n\")\n",
    "print(\"Total count is \" + str(LongSurvival['Pos_axillary_nodes'].count()) )\n",
    "print(\"Mean - \" + str(np.mean(LongSurvival['Pos_axillary_nodes'])))\n",
    "print(\"Median - \"+ str(np.median(LongSurvival['Pos_axillary_nodes'])))\n",
    "print(\"Maximum node in Long Survival - \"+ str(np.max(LongSurvival['Pos_axillary_nodes'])))\n",
    "print(\"\\n**********************************************\\n\")\n",
    "\n",
    "ShortSurvival = excel_df[excel_df['Status'] == 'No']\n",
    "\n",
    "print(\"Short Surival\\n\")\n",
    "print(\"Total count is \" + str(ShortSurvival['Pos_axillary_nodes'].count()) )\n",
    "print(\"Mean - \" + str(np.mean(ShortSurvival['Pos_axillary_nodes'])))\n",
    "print(\"Median - \"+ str(np.median(ShortSurvival['Pos_axillary_nodes'])))\n",
    "print(\"Minimum node in Short Survival - \"+ str(np.min(ShortSurvival['Pos_axillary_nodes'])))"
   ]
  },
  {
   "cell_type": "markdown",
   "metadata": {},
   "source": [
    "Based on the above code snippet, we have observed the below points\n",
    "<ul>\n",
    "    <li> <b> Long Survived - </b>\n",
    "Median value of \"0\" represents that majority of long survived patients are having \"0\" axillary nodes. \n",
    "</li>\n",
    "<li><b> Short Survived -</b>\n",
    "Median value of \"4.0\" represents that majority of short survived patients are having \"4\" axillary nodes.\n",
    "</li>\n",
    "</ul>\n",
    "<b> Note: </b>\n",
    "Data also represents that few patients in the Long survival category has more than 40 nodes, also the patients in the short survival category has no positive nodes. This represents that there is some possibility of incorrect information present in the data.\n"
   ]
  },
  {
   "cell_type": "markdown",
   "metadata": {},
   "source": [
    "### Which age category has maximum numbers of Long Survival?"
   ]
  },
  {
   "cell_type": "code",
   "execution_count": 129,
   "metadata": {},
   "outputs": [
    {
     "data": {
      "image/png": "[encoded data removed]",
      "text/plain": [
       "<Figure size 720x720 with 3 Axes>"
      ]
     },
     "metadata": {},
     "output_type": "display_data"
    }
   ],
   "source": [
    "sns.jointplot(x = \"Age\", y = \"Pos_axillary_nodes\", data = LongSurvival, kind = \"kde\", height=10)\n",
    "plt.show()"
   ]
  },
  {
   "cell_type": "markdown",
   "metadata": {},
   "source": [
    "Above is the contour plot for long survival using age and axillary nodes, it is observed that density for long survival is more from the age range 47–60 and axillary nodes from 0–3."
   ]
  },
  {
   "cell_type": "markdown",
   "metadata": {},
   "source": [
    "### What percentage of patients who had no positive axillary nodes died within 5 years?"
   ]
  },
  {
   "cell_type": "code",
   "execution_count": 37,
   "metadata": {},
   "outputs": [
    {
     "name": "stderr",
     "output_type": "stream",
     "text": [
      "'c' argument looks like a single numeric RGB or RGBA sequence, which should be avoided as value-mapping will have precedence in case its length matches with 'x' & 'y'.  Please use a 2-D array with a single row if you really want to specify the same RGB or RGBA value for all points.\n"
     ]
    },
    {
     "data": {
      "image/png": "[encoded data removed]",
      "text/plain": [
       "<Figure size 432x288 with 1 Axes>"
      ]
     },
     "metadata": {
      "needs_background": "light"
     },
     "output_type": "display_data"
    }
   ],
   "source": [
    "ShortSurvival.plot(kind=\"scatter\", x=\"Pos_axillary_nodes\", y=\"Age\") \n",
    "plt.ylabel('Age')\n",
    "plt.xlabel('Positive Axillary Nodes')\n",
    "plt.grid()\n",
    "plt.show()"
   ]
  },
  {
   "cell_type": "code",
   "execution_count": 39,
   "metadata": {
    "scrolled": false
   },
   "outputs": [
    {
     "name": "stdout",
     "output_type": "stream",
     "text": [
      "Age                   19\n",
      "Years_of_operation    19\n",
      "Pos_axillary_nodes    19\n",
      "Status                19\n",
      "dtype: int64\n",
      "\n",
      "Patients with 0 nodes who were survived less than 5 years are '6.21'%\n",
      "\n"
     ]
    }
   ],
   "source": [
    "print(ShortSurvival[ShortSurvival['Pos_axillary_nodes'] <= 0].count())\n",
    "zeronodespatients = ShortSurvival[ShortSurvival['Pos_axillary_nodes'] <= 0].Pos_axillary_nodes.count() / excel_df['Pos_axillary_nodes'].count()\n",
    "print(\"\\nPatients with 0 nodes who were survived less than 5 years are '{}'%\\n\".format(round(zeronodespatients,4)*100))"
   ]
  },
  {
   "cell_type": "markdown",
   "metadata": {},
   "source": [
    "Lets see the Survival status using Box plot"
   ]
  },
  {
   "cell_type": "code",
   "execution_count": 82,
   "metadata": {
    "scrolled": false
   },
   "outputs": [
    {
     "data": {
      "image/png": "[encoded data removed]",
      "text/plain": [
       "<Figure size 720x432 with 1 Axes>"
      ]
     },
     "metadata": {
      "needs_background": "light"
     },
     "output_type": "display_data"
    }
   ],
   "source": [
    "plt.figure(figsize=(10,6))\n",
    "sns.boxplot(x=\"Status\",y=\"Pos_axillary_nodes\", data=excel_df)\n",
    "plt.ylabel('Positive Axillary Nodes')\n",
    "plt.xlabel('Survival Status')\n",
    "plt.show()"
   ]
  },
  {
   "cell_type": "markdown",
   "metadata": {},
   "source": [
    "In the above box plot, following points needs to be considered\n",
    "\n",
    "<ul>\n",
    "<li>\n",
    "25th percentile and 50th percentile are nearly same for Long survive and threshold for it is 0 to 7.\n",
    "</li>\n",
    "<li>\n",
    "For short survival there are 50th percentile of nodes are nearly same as long survive 75th percentile. Threshold for the Short survival is 0 to 25 nodes\n",
    "</li>\n",
    "<li>\n",
    "Large percentage of patients who survived had 0 nodes. But there is a small percentage of 6.21 % patients who had no positive axillary nodes died within 5 years of operation, thus an absence of positive axillary nodes cannot always guarantee survival.\n",
    "</li>\n",
    "<li>\n",
    "Patients with more than 1 nodes are not likely to survive. More the number of nodes, lesser the survival chances.\n",
    "</li>"
   ]
  },
  {
   "cell_type": "markdown",
   "metadata": {},
   "source": [
    "## Conclusion"
   ]
  },
  {
   "cell_type": "markdown",
   "metadata": {},
   "source": [
    "<ul>\n",
    "    <li> Patients with less than 35 years of age will survive more than 5 years </li>\n",
    "    <li> Patients who has less nodes having high rate of survival. However, the data has shown that an absence of positive     \n",
    "         axillary nodes does not always guarantee survival. (Refer 4.7)</li>\n",
    "    <li> Patients who had undergone surgery in the year between 1963 and 1966 having high number of less survival rate </li>\n",
    "</ul>\n",
    "    "
   ]
  }
 ],
 "metadata": {
  "kernelspec": {
   "display_name": "Python 3",
   "language": "python",
   "name": "python3"
  },
  "language_info": {
   "codemirror_mode": {
    "name": "ipython",
    "version": 3
   },
   "file_extension": ".py",
   "mimetype": "text/x-python",
   "name": "python",
   "nbconvert_exporter": "python",
   "pygments_lexer": "ipython3",
   "version": "3.7.4"
  },
  "toc": {
   "base_numbering": 1,
   "nav_menu": {},
   "number_sections": true,
   "sideBar": false,
   "skip_h1_title": false,
   "title_cell": "Table of Contents",
   "title_sidebar": "Contents",
   "toc_cell": true,
   "toc_position": {
    "height": "47.7778px",
    "left": "719.972px",
    "top": "110.052px",
    "width": "159.132px"
   },
   "toc_section_display": false,
   "toc_window_display": false
  }
 },
 "nbformat": 4,
 "nbformat_minor": 2
}
